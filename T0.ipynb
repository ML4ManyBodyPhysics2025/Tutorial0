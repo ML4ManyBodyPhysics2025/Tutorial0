{
 "cells": [
  {
   "cell_type": "markdown",
   "metadata": {
    "id": "blOmIkqQ2Z8y"
   },
   "source": [
    "# Machine Learning for Many-Body Physics: Tutorial 1 - Programming in Python\n",
    "\n",
    "Perimeter Scholars International 2024-2025\n",
    "\n",
    "Originally created by Lauren Hayward, Edited by Mohamed Hibat-Allah.\n",
    "\n",
    "This notebook introduces how to use Jupyter notebooks, basics of Pythons, and some libraries and packages that will be useful throughout the course. You will find a total of 11 exercises in the sections below.\n",
    "\n",
    "For advanced python users, you can look at sections 6 to 8."
   ]
  },
  {
   "cell_type": "markdown",
   "metadata": {
    "id": "903huWYj55Vy"
   },
   "source": [
    "## 1. Basics of Jupyter notebooks"
   ]
  },
  {
   "cell_type": "markdown",
   "metadata": {
    "id": "NRRrfGFD2Z80"
   },
   "source": [
    "You can run Python code using either a notebook (like this one) or a script.\n",
    "A script is executed from top to bottom, whereas a notebook is divided into cells.\n",
    "Here we use a notebook because its interactive environment and rich narrative text capabilities make it ideal for teaching and tutorial purposes.\n",
    "\n",
    "In Jupyter notebooks, you type input into cells and execute a cell using `Shift+Enter`. In Google Colaboratory, you can also run Code cells using the play button.\n"
   ]
  },
  {
   "cell_type": "markdown",
   "metadata": {
    "id": "7VxP_YOp4ai8"
   },
   "source": [
    "## 2. Basics of Python"
   ]
  },
  {
   "cell_type": "markdown",
   "metadata": {
    "id": "rcv234Y_7LT3"
   },
   "source": [
    "### 2.1. Numbers"
   ]
  },
  {
   "cell_type": "markdown",
   "metadata": {
    "id": "hofl9T672Z84"
   },
   "source": [
    "We can use Python as a calculator for evaluating numerical expressions.\n",
    "Available arithmetic operators are:\n",
    "\n",
    "| Operator  | Description    |\n",
    "| :-------- |:-------------- |\n",
    "| `+`       | addition |\n",
    "| `-`       | subtraction |\n",
    "| `*`       | multiplication |\n",
    "| `/`       | division or floor division (see below) |\n",
    "| `//`      | floor division (also known as integer division) |\n",
    "| `**`      | exponent (**Note:** the operator `^` is not an exponential operator!) |\n",
    "| `%`       | modulus (returns the remainder upon dividing the left-hand operand by the right-hand operand) |"
   ]
  },
  {
   "cell_type": "code",
   "execution_count": null,
   "metadata": {
    "id": "KVmcEQ7F2Z85"
   },
   "outputs": [],
   "source": [
    "(1+3)*(6-4)**3"
   ]
  },
  {
   "cell_type": "code",
   "execution_count": null,
   "metadata": {
    "id": "PaqkbdZN2Z87"
   },
   "outputs": [],
   "source": [
    "9%5"
   ]
  },
  {
   "cell_type": "code",
   "execution_count": null,
   "metadata": {
    "id": "CPctuLmn2Z8-"
   },
   "outputs": [],
   "source": [
    "3/2"
   ]
  },
  {
   "cell_type": "markdown",
   "metadata": {
    "id": "B9hQCoo72Z9A"
   },
   "source": [
    "Numbers can have different numeric types.\n",
    "Integer numbers (such as `2`, `-9` and `0`) have type `int`.\n",
    "Numbers with a decimal (such as `13.4`, `4.0` and `-12.2`) have type `float`.\n",
    "You can also read about long integers and complex numbers, but we won't use them in this course.\n",
    "Python can determine the number's type without being explicitly told.\n",
    "\n",
    "Booleans (variables that take one of two possible values) are a subtype of integers."
   ]
  },
  {
   "cell_type": "markdown",
   "metadata": {
    "id": "12Hi82Nk2Z9B"
   },
   "source": [
    "In Python 2, the output of the operation `a/b` depends on the types of the operands `a` and `b`.\n",
    "If `a` and `b` are both of type `int`, then `a/b` will perform integer division and return an integer.\n",
    "If at least one of `a` or `b` is of type `float`, then `a/b` performs division and returns a floating-point number.\n",
    "\n",
    "In Python 3, the operation `a/b` always performs division.\n",
    "Integer division is performed by writing `a//b`."
   ]
  },
  {
   "cell_type": "code",
   "execution_count": null,
   "metadata": {
    "id": "9snOkU5a2Z9C"
   },
   "outputs": [],
   "source": [
    "7/3"
   ]
  },
  {
   "cell_type": "code",
   "execution_count": null,
   "metadata": {
    "id": "nKGNFfUv2Z9E"
   },
   "outputs": [],
   "source": [
    "7.0/3"
   ]
  },
  {
   "cell_type": "code",
   "execution_count": null,
   "metadata": {
    "id": "84aWWWPy2Z9G"
   },
   "outputs": [],
   "source": [
    "7.0//3"
   ]
  },
  {
   "cell_type": "markdown",
   "metadata": {
    "id": "oghwiQMD7Oo4"
   },
   "source": [
    "### 2.2. Printing"
   ]
  },
  {
   "cell_type": "markdown",
   "metadata": {
    "id": "x1_aOr6t2Z9I"
   },
   "source": [
    "If we enter several numerical expressions on different lines of the same cell, only the last line will be displayed."
   ]
  },
  {
   "cell_type": "code",
   "execution_count": null,
   "metadata": {
    "id": "gPLN85Bc2Z9J"
   },
   "outputs": [],
   "source": [
    "2+4\n",
    "6-5"
   ]
  },
  {
   "cell_type": "markdown",
   "metadata": {
    "id": "lx-j3A3h2Z9L"
   },
   "source": [
    "Use the `print(x)` function to display the value of the expression `x`.\n",
    "In Python 2, use `print` without an argument to print an empty line.\n",
    "In Python 3, use `print()` to print an empty line."
   ]
  },
  {
   "cell_type": "code",
   "execution_count": null,
   "metadata": {
    "id": "Q3p1GnR12Z9M"
   },
   "outputs": [],
   "source": [
    "print(2+4)\n",
    "print()\n",
    "print(6-5)"
   ]
  },
  {
   "cell_type": "markdown",
   "metadata": {
    "id": "8dddYW0b7uZc"
   },
   "source": [
    "### 2.3. Variables and comments"
   ]
  },
  {
   "cell_type": "markdown",
   "metadata": {
    "id": "LBDrGfFh2Z9O"
   },
   "source": [
    "Store values in a variable using the equal sign.\n",
    "\n",
    "Use comments to document your code. Any text following a `#` character on a line will not be interpreted by Python and will thus not affect the code's output."
   ]
  },
  {
   "cell_type": "code",
   "execution_count": null,
   "metadata": {
    "id": "wLLVibKK2Z9O"
   },
   "outputs": [],
   "source": [
    "w = 10 #width of rectangle\n",
    "h = 4  #height of rectangle\n",
    "print( w*h ) #print the area"
   ]
  },
  {
   "cell_type": "markdown",
   "metadata": {
    "id": "jrYdmBpA75HD"
   },
   "source": [
    "### 2.4. Strings"
   ]
  },
  {
   "cell_type": "markdown",
   "metadata": {
    "id": "zx-Pn7k02Z9Q"
   },
   "source": [
    "In addition to numbers, you can store and manipulate strings of characters.\n",
    "You can use either single or double quotes to define a string."
   ]
  },
  {
   "cell_type": "code",
   "execution_count": null,
   "metadata": {
    "id": "r6R3apjX2Z9R"
   },
   "outputs": [],
   "source": [
    "word1 = \"Hello\"\n",
    "word2 = \"world\"\n",
    "sentence = word1 + \" \" + word2 #concatenate strings using '+'\n",
    "print( sentence )\n",
    "\n",
    "L = len( sentence ) #get the length\n",
    "print( L )"
   ]
  },
  {
   "cell_type": "markdown",
   "metadata": {
    "id": "lQ7zCWqc2Z9T"
   },
   "source": [
    "Use the format method to get formatted strings, which are often useful for displaying output in a nice way"
   ]
  },
  {
   "cell_type": "code",
   "execution_count": null,
   "metadata": {
    "id": "tsvMOP1c2Z9T"
   },
   "outputs": [],
   "source": [
    "subject = \"theoretical physics\"\n",
    "num_students = 23\n",
    "num_countries = 15\n",
    "print( \"This summer school will teach {} to {} students from {} different countries.\".format(subject,num_students,num_countries) )"
   ]
  },
  {
   "cell_type": "markdown",
   "metadata": {
    "id": "gQ4pZHjG2Z9V"
   },
   "source": [
    "**Exercise #1:** Write code that takes a variable storing a circle's radius and prints its area. For example, when `r=5`, you should print:\n",
    "\n",
    "`The area of the circle is 78.53975.`"
   ]
  },
  {
   "cell_type": "code",
   "execution_count": null,
   "metadata": {
    "id": "i4qCCWpA2Z9W"
   },
   "outputs": [],
   "source": [
    "### SOLUTION ###\n"
   ]
  },
  {
   "cell_type": "markdown",
   "metadata": {
    "id": "_lkw5vf_2Z9X"
   },
   "source": [
    "### 2.5. Lists\n",
    "\n",
    "Python has several data types available for grouping data together.\n",
    "The first one that we will see is the `list`.\n",
    "To define a list, use square brackets with comma-separated values.\n",
    "The elements of a list can be of the same type or of different types.\n",
    "Lists can even contain other lists.\n",
    "\n",
    "Some useful functions and methods for `lists` are:\n",
    "\n",
    "| `list` function/method  | Description    |\n",
    "| :---------------------- |:-------------- |\n",
    "| `+`                     | concatenates `lists` |\n",
    "| `len(list)`             | outputs the `list` length  |\n",
    "| `min(list)`             | outputs the smallest item in `list`  |\n",
    "| `max(list)`             | outputs the largest item in `list`  |\n",
    "| `list.append(x)`        | adds a new item `x` to the end of `list`  |\n",
    "| `list.sort()`           | sorts the elements of `list`  |\n",
    "| `sorted(list)`          | return a new sorted list with the elements of `list`  |"
   ]
  },
  {
   "cell_type": "code",
   "execution_count": null,
   "metadata": {
    "id": "ixYz_mIy2Z9Y"
   },
   "outputs": [],
   "source": [
    "A = [4,12,-2]\n",
    "B = [\"a\", 0, 4.2, [4,5] ]\n",
    "print( \"A = {},   B = {}\".format(A,B) )\n",
    "print\n",
    "\n",
    "print( \"A+B = {}\".format(A+B) )\n",
    "print( \"max(A) = {}\".format(max(A)) )\n",
    "print( \"len(B) = {}\".format(len(B)) )\n",
    "\n",
    "A.append(3)\n",
    "print( \"\\nAfter appending 3:  A = {}\".format(A) )\n",
    "\n",
    "A.append(B)\n",
    "print( \"After appending B:  A = {}\".format(A) )"
   ]
  },
  {
   "cell_type": "code",
   "execution_count": null,
   "metadata": {
    "id": "ppWNSFMB2Z9a"
   },
   "outputs": [],
   "source": [
    "#Compare sort vs. sorted:\n",
    "C = [6,-2.45,12.3,-203]\n",
    "print( \"Initially,          C = {}\".format(C) )\n",
    "\n",
    "D = sorted(C)\n",
    "print( \"After using sorted, C = {},  D = {}\".format(C,D) )\n",
    "\n",
    "C.sort()\n",
    "print( \"After using sort,   C = {}\".format(C) )"
   ]
  },
  {
   "cell_type": "markdown",
   "metadata": {
    "id": "8SptNavl2Z9e"
   },
   "source": [
    "### 2.6. Indexing and slicing\n",
    "\n",
    "Both strings and lists can be indexed. The first element always has index 0.\n",
    "\n",
    "You can also use negative indices to index elements counting from end."
   ]
  },
  {
   "cell_type": "code",
   "execution_count": null,
   "metadata": {
    "id": "3GcpwQYa2Z9f"
   },
   "outputs": [],
   "source": [
    "B = [\"a\", 0, 4.2, [4,5] ]\n",
    "print( B[0] )  #prints the first element\n",
    "print( B[-1] ) #prints the last element\n",
    "print( B[-4] ) #prints the fourth-last element (the first element in this case)\n",
    "print( B[3][1] ) #prints the second element of the fourth element"
   ]
  },
  {
   "cell_type": "markdown",
   "metadata": {
    "id": "W-saYYK62Z9k"
   },
   "source": [
    "Use *slicing* to get a subset of your list or string."
   ]
  },
  {
   "cell_type": "code",
   "execution_count": null,
   "metadata": {
    "id": "zcA3CUAq2Z9k"
   },
   "outputs": [],
   "source": [
    "s = \"abcdef\"\n",
    "print( s[1:4] ) #print the characters from index 1 to 4 (1 is included and 4 is excluded)\n",
    "print( s[4:]  ) #the last index defaults to the length of the string/list\n",
    "print( s[:3]  ) #the first index defaults to 0\n",
    "\n",
    "#Use an optional third slicing argument to denote the step size:\n",
    "print( s[1:4:2]) #consider at every second character"
   ]
  },
  {
   "cell_type": "markdown",
   "metadata": {
    "id": "vrkID4f92Z9m"
   },
   "source": [
    "**Exercise #2:** Given the list below, use slicing to display its elements in reverse order"
   ]
  },
  {
   "cell_type": "code",
   "execution_count": null,
   "metadata": {
    "id": "l1RVYdNe2Z9n"
   },
   "outputs": [],
   "source": [
    "A = ['a','b','c','d','e','f']"
   ]
  },
  {
   "cell_type": "code",
   "execution_count": null,
   "metadata": {
    "id": "OCm67U1OKAJ2"
   },
   "outputs": [],
   "source": [
    "### SOLUTION ###\n"
   ]
  },
  {
   "cell_type": "markdown",
   "metadata": {
    "id": "_Yvj8uC02Z9p"
   },
   "source": [
    "An important difference between lists and string is that lists ar *mutable* (can be changed), while string are *immutable* (cannot be changed).\n",
    "\n",
    "The `del` statement can be used to delete items from a list."
   ]
  },
  {
   "cell_type": "code",
   "execution_count": null,
   "metadata": {
    "id": "HcCKahpJ2Z9q"
   },
   "outputs": [],
   "source": [
    "B = [\"a\", 0, 4.2, [4,5] ]\n",
    "B[0] = \"b\" #changes the first element\n",
    "print( B )\n",
    "del B[1:3]\n",
    "print( B )"
   ]
  },
  {
   "cell_type": "code",
   "execution_count": null,
   "metadata": {
    "id": "8BaMkFJI2Z9s"
   },
   "outputs": [],
   "source": [
    "s = \"abcdef\"\n",
    "s[0] = 'b' #generates an error"
   ]
  },
  {
   "cell_type": "markdown",
   "metadata": {
    "id": "rSZ1DsKV2Z9u"
   },
   "source": [
    "**Exercise #3:** Given the string `s` below, use indexing and/or slicing to generate a new string `ss` that is the same as `s` but with the first letter changed to `b`."
   ]
  },
  {
   "cell_type": "code",
   "execution_count": null,
   "metadata": {
    "id": "P-Unp0Ja2Z9u"
   },
   "outputs": [],
   "source": [
    "s = \"abcdef\""
   ]
  },
  {
   "cell_type": "code",
   "execution_count": null,
   "metadata": {
    "id": "9hXvjSWTKFJ8"
   },
   "outputs": [],
   "source": [
    "### SOLUTION ###\n"
   ]
  },
  {
   "cell_type": "markdown",
   "metadata": {
    "id": "_10PPzYN2Z9w"
   },
   "source": [
    "### 2.7. Dictionaries\n",
    "\n",
    "Dictionaries are another mutable data type in Python.\n",
    "Unlike a `list`, which is indexed by a range of numbers, a `dict` is indexed by keys that you define.\n",
    "Each key can be a string, a number, or any other immutable type.\n",
    "You can think of a dictionary as a mapping."
   ]
  },
  {
   "cell_type": "code",
   "execution_count": null,
   "metadata": {
    "id": "Yq2qxJT_2Z9w"
   },
   "outputs": [],
   "source": [
    "D = {\"abc\":\"a\", \"a\":0, 4:2}\n",
    "print( D )\n",
    "print( D[\"a\"] )\n",
    "print( D.keys() ) #use 'keys' to get all of the dictionary keys\n",
    "\n",
    "D[\"new key\"] = 13 #add a new item to the dictionary\n",
    "print( D )"
   ]
  },
  {
   "cell_type": "markdown",
   "metadata": {
    "id": "6DgETgOn2Z9y"
   },
   "source": [
    "You can read about other available data structures such as tuples and sets, but we won't use them in this course."
   ]
  },
  {
   "cell_type": "markdown",
   "metadata": {
    "id": "MrlA5dTZ2Z9z"
   },
   "source": [
    "### 2.8. Other useful Python tools"
   ]
  },
  {
   "cell_type": "markdown",
   "metadata": {
    "id": "6Y47AlH12Z9z"
   },
   "source": [
    "#### `type`"
   ]
  },
  {
   "cell_type": "markdown",
   "metadata": {
    "id": "ca_v199hFUsd"
   },
   "source": [
    "Use the `type` function to output a value's type."
   ]
  },
  {
   "cell_type": "code",
   "execution_count": null,
   "metadata": {
    "id": "QGsPmina2Z90"
   },
   "outputs": [],
   "source": [
    "type(4.2)"
   ]
  },
  {
   "cell_type": "code",
   "execution_count": null,
   "metadata": {
    "id": "PRGafKuf2Z92"
   },
   "outputs": [],
   "source": [
    "A = [3,4,5]\n",
    "type(A)"
   ]
  },
  {
   "cell_type": "code",
   "execution_count": null,
   "metadata": {
    "id": "rEj6WYy72Z94"
   },
   "outputs": [],
   "source": [
    "A = [3,4,5]\n",
    "type(A[0])"
   ]
  },
  {
   "cell_type": "markdown",
   "metadata": {
    "id": "o53fPzEo2Z96"
   },
   "source": [
    "####  `range`"
   ]
  },
  {
   "cell_type": "markdown",
   "metadata": {
    "id": "523bbTN-Fcuv"
   },
   "source": [
    "The `range` function can be used to generate lists that contain sequences of numbers."
   ]
  },
  {
   "cell_type": "code",
   "execution_count": null,
   "metadata": {
    "id": "rjZilTSV2Z96"
   },
   "outputs": [],
   "source": [
    "#With one argument, range(stop) gives a sequence of integers from 0 to stop-1:\n",
    "print( list(range(12)) )\n",
    "\n",
    "#With two arguments, range(start,stop) gives a sequence of integers from start to stop-1\n",
    "print( list(range(2,12)) )\n",
    "\n",
    "#An optional third argument is the step size:\n",
    "print( list(range(2,12,5)) )"
   ]
  },
  {
   "cell_type": "markdown",
   "metadata": {
    "id": "zos5z4lo2Z98"
   },
   "source": [
    "#### `import` and `time`"
   ]
  },
  {
   "cell_type": "markdown",
   "metadata": {
    "id": "gNu51tEQ2Z98"
   },
   "source": [
    "Often, we will want to use a package or module that is not included by default.\n",
    "In this case we can use the `import` command to import packages, functions, modules or submodules.\n",
    "\n",
    "One such useful module is called `time` and can be used for timing how long code takes to run."
   ]
  },
  {
   "cell_type": "code",
   "execution_count": null,
   "metadata": {
    "id": "-dSnaP0Q2Z99"
   },
   "outputs": [],
   "source": [
    "import time #import the time module\n",
    "\n",
    "t1 = time.time() #get the time at the beginning (in seconds)\n",
    "\n",
    "A = [4,2,8]\n",
    "B = [1,2,3]\n",
    "C = A+B\n",
    "\n",
    "t2 = time.time() #get the time at the end (in seconds)\n",
    "\n",
    "print(\"Elapsed time: {} seconds\".format(t2-t1) )\n",
    "\n"
   ]
  },
  {
   "cell_type": "markdown",
   "metadata": {
    "id": "KvaHfFmZFlg8"
   },
   "source": [
    "## 3. Control structures"
   ]
  },
  {
   "cell_type": "markdown",
   "metadata": {
    "id": "QXn2TzkKFpWB"
   },
   "source": [
    "### 3.1. `if` statement"
   ]
  },
  {
   "cell_type": "markdown",
   "metadata": {
    "id": "oZpwvTOx2Z9_"
   },
   "source": [
    "An `if` statement is used if we want to execute some section of code only if some conditional expression is true.\n",
    "\n",
    "For example, the code segment\n",
    "\n",
    "`if x:\n",
    "    print(\"Hello\")\n",
    "`\n",
    "    \n",
    "will print `Hello` only if the *truth value* of `x` is true.\n",
    "\n",
    "The truth value of `x` is false if it is has the value `None`, `False`, zero (of any numeric type), or if it is empty (or example, if it is an empty list, string or dictionary).\n",
    "Otherwise, the truth value of `x` is true."
   ]
  },
  {
   "cell_type": "code",
   "execution_count": null,
   "metadata": {
    "id": "N9oOkSAx2Z9_"
   },
   "outputs": [],
   "source": [
    "if 13.4:\n",
    "    print(\"Hello\")"
   ]
  },
  {
   "cell_type": "code",
   "execution_count": null,
   "metadata": {
    "id": "Wj3r8Rl62Z-B"
   },
   "outputs": [],
   "source": [
    "if 0:\n",
    "    print(\"Hello\")"
   ]
  },
  {
   "cell_type": "code",
   "execution_count": null,
   "metadata": {
    "id": "sN5Pdt0t2Z-C"
   },
   "outputs": [],
   "source": [
    "if [0]:\n",
    "    print(\"Hello\")"
   ]
  },
  {
   "cell_type": "markdown",
   "metadata": {
    "id": "y7VyyB9w2Z-E"
   },
   "source": [
    "Examples of conditional expressions are:\n",
    "\n",
    "| Conditional expressions  | Description    |\n",
    "| :----------------------  |:-------------- |\n",
    "| `a or b`                 | logical OR  |\n",
    "| `a and b`                | logical AND |\n",
    "| `not a`                  | logical NOT |\n",
    "| `a < b`                  | less than |\n",
    "| `a <= b`                 | less than or equal to |\n",
    "| `a > b`                  | greater than |\n",
    "| `a >= b`                 | greater than or equal to |\n",
    "| `a == b`                 | equal |\n",
    "\n",
    "The `if` statement can be combined with one or more optional `elif` (else-if) statements and one optional `else` statement."
   ]
  },
  {
   "cell_type": "code",
   "execution_count": null,
   "metadata": {
    "id": "R9tlUZqh2Z-E"
   },
   "outputs": [],
   "source": [
    "a=5\n",
    "b=15.6\n",
    "c=0\n",
    "\n",
    "if a+b < 10:\n",
    "    c=b\n",
    "    print( \"Hi\" )\n",
    "elif a != 2:\n",
    "    c=a\n",
    "    print( \"Hello\" )\n",
    "elif b>a:\n",
    "    print( \"Hey\" )\n",
    "else:\n",
    "    print( \"Bye\" )\n",
    "\n",
    "print(\"c={}\".format(c))"
   ]
  },
  {
   "cell_type": "markdown",
   "metadata": {
    "id": "_uXnDyuL2Z-G"
   },
   "source": [
    "**Note:** The `if` statement is the first place where we can see how whitespace is interpreted in Python.\n",
    "In other languages, blocks often start and end with curly braces (`{` and `}`) or with keywords (such as `begin` and `end`).\n",
    "In these languages, the blocks are often indented for readability but this whitespace is not actually meaningful (the code gives the same result if these indents are removed).\n",
    "In Python, however, indents are necessary within the blocks."
   ]
  },
  {
   "cell_type": "markdown",
   "metadata": {
    "id": "68rtTplNFtEv"
   },
   "source": [
    "### 3.2. `for` loop"
   ]
  },
  {
   "cell_type": "markdown",
   "metadata": {
    "id": "akqJF4632Z-G"
   },
   "source": [
    "A `for` loop can be used to iterate over the items of a sequence."
   ]
  },
  {
   "cell_type": "code",
   "execution_count": null,
   "metadata": {
    "id": "NC5KVcpv2Z-G"
   },
   "outputs": [],
   "source": [
    "A = ['b',10,8.25]\n",
    "\n",
    "for i in A:\n",
    "    print(i)"
   ]
  },
  {
   "cell_type": "code",
   "execution_count": null,
   "metadata": {
    "id": "MvRAGZCT2Z-J"
   },
   "outputs": [],
   "source": [
    "for num in range(8,14):\n",
    "    print( num )"
   ]
  },
  {
   "cell_type": "markdown",
   "metadata": {
    "id": "nXepJn9mc11W"
   },
   "source": [
    "### 3.3. Some useful functions to use with `for` loops"
   ]
  },
  {
   "cell_type": "markdown",
   "metadata": {
    "id": "o5ZFEiCydPrp"
   },
   "source": [
    "#### `zip`"
   ]
  },
  {
   "cell_type": "markdown",
   "metadata": {
    "id": "KpIKiS2idtrQ"
   },
   "source": [
    "You can use `zip` to iterate over the elements of several parallel lists."
   ]
  },
  {
   "cell_type": "code",
   "execution_count": null,
   "metadata": {
    "id": "TP3QPwPNdv4G"
   },
   "outputs": [],
   "source": [
    "room_names = [\"Alice\", \"Bob\", \"Space\", \"Time\"]\n",
    "floor_nums = [3, 4, 4, 2]\n",
    "\n",
    "for r, f in zip(room_names, floor_nums):\n",
    "    print( \"The {} Room is on floor #{}\".format(r,f) )"
   ]
  },
  {
   "cell_type": "markdown",
   "metadata": {
    "id": "d0nzp28ld3g4"
   },
   "source": [
    "#### `enumerate`"
   ]
  },
  {
   "cell_type": "markdown",
   "metadata": {
    "id": "yjIfBQjyd6Ee"
   },
   "source": [
    "You can use `enumerate` to iterate while also keeping track of the iteration index."
   ]
  },
  {
   "cell_type": "code",
   "execution_count": null,
   "metadata": {
    "id": "bvD4X04ieDHd"
   },
   "outputs": [],
   "source": [
    "events = [\"Monday\", \"Tuesday\", \"Wednesday\", \"Thursday\", \"Friday\"]\n",
    "\n",
    "for i,e in enumerate(events):\n",
    "    print( \"Weekday #{} is {}\".format(i,e) )"
   ]
  },
  {
   "cell_type": "markdown",
   "metadata": {
    "id": "5lFnP5UuFylC"
   },
   "source": [
    "### 3.4. `while` loop"
   ]
  },
  {
   "cell_type": "markdown",
   "metadata": {
    "id": "lRv7ULE62Z-K"
   },
   "source": [
    "In addition to a `for` loop, a `while` loop can be used to repeat sections of code.\n",
    "The `while` loop\n",
    "\n",
    "`while x:\n",
    "    [while block]\n",
    "`\n",
    "\n",
    "will repeatedly execute the while body as long as the condition `x` is true."
   ]
  },
  {
   "cell_type": "code",
   "execution_count": null,
   "metadata": {
    "id": "0PDIMHdk2Z-L"
   },
   "outputs": [],
   "source": [
    "a = 10\n",
    "\n",
    "while a>0:\n",
    "    print(a)\n",
    "    a = a-2"
   ]
  },
  {
   "cell_type": "markdown",
   "metadata": {
    "id": "8QfgNKgAF1Wx"
   },
   "source": [
    "### 3.5. Defining functions"
   ]
  },
  {
   "cell_type": "markdown",
   "metadata": {
    "id": "egjKUldH2Z-O"
   },
   "source": [
    "Use the keyword `def` to define your own function.\n",
    "This function can then be called from other parts of your code.\n",
    "Optionally, your function can accept one or more input parameters.\n",
    "As another option, you can use a `return` statement to return one or more values from your function."
   ]
  },
  {
   "cell_type": "code",
   "execution_count": null,
   "metadata": {
    "id": "uLJEvKJw2Z-P"
   },
   "outputs": [],
   "source": [
    "#Function with no input parameters:\n",
    "def printHello():\n",
    "    print(\"Hello there!\")\n",
    "\n",
    "printHello()"
   ]
  },
  {
   "cell_type": "code",
   "execution_count": null,
   "metadata": {
    "id": "wWrCdqJr2Z-Q"
   },
   "outputs": [],
   "source": [
    "#Function with two input parameters:\n",
    "def get_c(a,b):\n",
    "    c = 5*a - b\n",
    "    print(c)\n",
    "\n",
    "get_c(1,2)\n",
    "get_c(4.3,-2)"
   ]
  },
  {
   "cell_type": "code",
   "execution_count": null,
   "metadata": {
    "id": "8OEGCAUh2Z-S"
   },
   "outputs": [],
   "source": [
    "#Function with one input parameter and two return values:\n",
    "def getElements(x):\n",
    "    return x[0], x[3]\n",
    "\n",
    "a,b = getElements([6,9,10,15,16])\n",
    "print(\"a = {}, b = {}\".format(a,b))"
   ]
  },
  {
   "cell_type": "markdown",
   "metadata": {
    "id": "38EZQefRF75m"
   },
   "source": [
    "### 3.6. List comprehension"
   ]
  },
  {
   "cell_type": "markdown",
   "metadata": {
    "id": "VSOBWmCh2Z-W"
   },
   "source": [
    "List comprehension can be used to build lists in a concise way.\n",
    "A list is built using at least one `for` clause as well as optional `if` clauses."
   ]
  },
  {
   "cell_type": "code",
   "execution_count": null,
   "metadata": {
    "id": "GOtOTR482Z-W"
   },
   "outputs": [],
   "source": [
    "L1 = [i for i in range(10)]\n",
    "print( L1 )"
   ]
  },
  {
   "cell_type": "code",
   "execution_count": null,
   "metadata": {
    "id": "-fEBd-e_2Z-Z"
   },
   "outputs": [],
   "source": [
    "A = [7,-8,2,20]\n",
    "B = [a*2 for a in A if a>0]\n",
    "print( B )"
   ]
  },
  {
   "cell_type": "markdown",
   "metadata": {
    "id": "iFFHe13a2Z-b"
   },
   "source": [
    "**Exercise #4:** Given the list `A` below, use list comprehension to get a new list `B` containing the squares of the even elements of `A`."
   ]
  },
  {
   "cell_type": "code",
   "execution_count": null,
   "metadata": {
    "id": "WwZNaO4U2Z-c"
   },
   "outputs": [],
   "source": [
    "A = [8,62,11,12,33,65]"
   ]
  },
  {
   "cell_type": "code",
   "execution_count": null,
   "metadata": {
    "id": "xheVypiJKntt"
   },
   "outputs": [],
   "source": [
    "### SOLUTION ###\n"
   ]
  },
  {
   "cell_type": "markdown",
   "metadata": {
    "id": "SkUiNQi-2Z-e"
   },
   "source": [
    "We can also study list comprehension examples with two `for` clauses:"
   ]
  },
  {
   "cell_type": "code",
   "execution_count": null,
   "metadata": {
    "id": "20Xe1rt-2Z-e"
   },
   "outputs": [],
   "source": [
    "A = [3,4]\n",
    "B = [4,7,11]\n",
    "C = [a+b for a in A for b in B if a!=b]\n",
    "print(C)"
   ]
  },
  {
   "cell_type": "markdown",
   "metadata": {
    "id": "rGyAkhU52Z-g"
   },
   "source": [
    "List comprehension can be much faster than appending to a list."
   ]
  },
  {
   "cell_type": "code",
   "execution_count": null,
   "metadata": {
    "id": "xTO7LdWp2Z-g"
   },
   "outputs": [],
   "source": [
    "t1 = time.time()\n",
    "\n",
    "#Append to a list:\n",
    "L = []\n",
    "for i in range(10**7):\n",
    "    L.append(i)\n",
    "\n",
    "t2 = time.time() #get the time at the end (in seconds)\n",
    "\n",
    "print(\"Elapsed time: {} seconds\".format(t2-t1) )"
   ]
  },
  {
   "cell_type": "code",
   "execution_count": null,
   "metadata": {
    "id": "IZjAGqvb2Z-i"
   },
   "outputs": [],
   "source": [
    "t1 = time.time()\n",
    "\n",
    "#Use list comprehension:\n",
    "L = [i for i in range(10**7)]\n",
    "\n",
    "t2 = time.time() #get the time at the end (in seconds)\n",
    "\n",
    "print(\"Elapsed time: {} seconds\".format(t2-t1) )"
   ]
  },
  {
   "cell_type": "markdown",
   "metadata": {
    "id": "vsP5j2MC2Z-k"
   },
   "source": [
    "## 4. The NumPy package\n",
    "\n",
    "Here we will explore some of the scientific computing functionality available through the NumPy package.\n",
    "\n",
    "Whenever we want to use NumPy, we must first import it.\n",
    "A standard convention is to import it under the name `np`."
   ]
  },
  {
   "cell_type": "code",
   "execution_count": null,
   "metadata": {
    "id": "ZN5MXZqk2Z-k"
   },
   "outputs": [],
   "source": [
    "import numpy as np"
   ]
  },
  {
   "cell_type": "markdown",
   "metadata": {
    "id": "FncuoKjhGCVW"
   },
   "source": [
    "### 4.1. Arrays"
   ]
  },
  {
   "cell_type": "markdown",
   "metadata": {
    "id": "G6k9119M2Z-m"
   },
   "source": [
    "The most common objects in NumPy are single- or multi-dimensional arrays.\n",
    "Arrays are tables of values that all have the same type.\n",
    "Here we will only consider arrays of numbers.\n",
    "\n",
    "There are various functions available for creating NumPy arrays."
   ]
  },
  {
   "cell_type": "code",
   "execution_count": null,
   "metadata": {
    "id": "21xnx7Bu2Z-m"
   },
   "outputs": [],
   "source": [
    "#Create arrays from other data structures such as lists:\n",
    "\n",
    "A = np.array([5, -2, 12]) #Create a 1D array\n",
    "print( A )\n",
    "print\n",
    "\n",
    "B = np.array( [ [0.4, 3.4, -2.5], [12.0, 6.4, 8.2] ] ) #Create a 2D array\n",
    "print( B )"
   ]
  },
  {
   "cell_type": "code",
   "execution_count": null,
   "metadata": {
    "id": "KVN_5oW42Z-p"
   },
   "outputs": [],
   "source": [
    "#Use np.zeros to create arrays of zeros of different sizes and dimensions.\n",
    "#Similarly, use np.ones to create arrays of ones.\n",
    "print( np.zeros(3) )\n",
    "print\n",
    "print( np.ones((6,5)) )\n",
    "print\n",
    "print( np.zeros((3,2,2)) )"
   ]
  },
  {
   "cell_type": "code",
   "execution_count": null,
   "metadata": {
    "id": "wbHvBQ712Z-q"
   },
   "outputs": [],
   "source": [
    "#Use np.arange to create arrays containing sequences of numbers (similar to range for lists)\n",
    "print( np.arange(8) )\n",
    "print\n",
    "print( np.arange(-10,10,5) )"
   ]
  },
  {
   "cell_type": "code",
   "execution_count": null,
   "metadata": {
    "id": "eqlJJQkB2Z-s"
   },
   "outputs": [],
   "source": [
    "#Use np.linspace get an array of linearly spaced numbers between given endpoints\n",
    "print( np.linspace(2,10,20) ) #20 points between 2 and 10"
   ]
  },
  {
   "cell_type": "markdown",
   "metadata": {
    "id": "C7mdOmy_2Z-t"
   },
   "source": [
    "The functions `size`, `shape` and `ndims` are available for determining an array's size and dimensionality."
   ]
  },
  {
   "cell_type": "code",
   "execution_count": null,
   "metadata": {
    "id": "J-ob1FlT2Z-t"
   },
   "outputs": [],
   "source": [
    "A = np.array( [[4,4,2], [3,8,10]] )\n",
    "print( A.size ) #total number of elements\n",
    "print( A.shape ) #size along each dimension\n",
    "print( A.ndim ) #number of dimensions"
   ]
  },
  {
   "cell_type": "markdown",
   "metadata": {
    "id": "GmdT1m7bGOGZ"
   },
   "source": [
    "### 4.2. Basic array operations"
   ]
  },
  {
   "cell_type": "markdown",
   "metadata": {
    "id": "b4bbIZYiGReB"
   },
   "source": [
    "#### Arithmetic operators"
   ]
  },
  {
   "cell_type": "markdown",
   "metadata": {
    "id": "a0QKIpTz2Z-v"
   },
   "source": [
    "Arithmetic operators are applied elementwise for arrays."
   ]
  },
  {
   "cell_type": "code",
   "execution_count": null,
   "metadata": {
    "id": "ipo1obFz2Z-v"
   },
   "outputs": [],
   "source": [
    "A_list = [4,5,6]\n",
    "A_arr = np.array(A_list)\n",
    "\n",
    "B_list = [10,11,12]\n",
    "B_arr = np.array(B_list)\n",
    "\n",
    "print( A_list + B_list ) #The + concatenates lists\n",
    "print( A_arr + B_arr )   #The + is elementwise addition for arrays"
   ]
  },
  {
   "cell_type": "code",
   "execution_count": null,
   "metadata": {
    "id": "qh1RrRHm2Z-x"
   },
   "outputs": [],
   "source": [
    "A = np.array([3.2, 4.8, 1.1])\n",
    "B = np.array([1.2, 10.3, 9.9])\n",
    "\n",
    "print( A - 1 ) #elementwise subtraction\n",
    "print( A * B ) #elementwise multiplication\n",
    "print( B / A ) #elementwise division\n",
    "print( B**2 )  #elementwise exponential"
   ]
  },
  {
   "cell_type": "markdown",
   "metadata": {
    "id": "kEaFqOrZGqEP"
   },
   "source": [
    "**Exercise #5:** Define a function that will take as input two NumPy arrays of the same size and outputs the elementwise sum of their squared elements. Discuss your solution with another student. Can you find a way to make your code more efficient?"
   ]
  },
  {
   "cell_type": "code",
   "execution_count": null,
   "metadata": {
    "id": "roHKtxPDG2lh"
   },
   "outputs": [],
   "source": [
    "### SOLUTION ###\n"
   ]
  },
  {
   "cell_type": "markdown",
   "metadata": {
    "id": "covrvf-zGW5Y"
   },
   "source": [
    "#### Mathematical functions"
   ]
  },
  {
   "cell_type": "markdown",
   "metadata": {
    "id": "XeRYmXyH2Z-z"
   },
   "source": [
    "Numpy has several built-in mathematical functions that act elementwise on arrays `x`, such as:\n",
    "\n",
    "| NumPy function  | Description    |\n",
    "| :-------------------------  |:-------------- |\n",
    "| `np.sqrt(x)`                | elementwise square-root  |\n",
    "| `np.exp(x)`                 | elementwise exponential  |\n",
    "| `np.log(x)`                 | elementwise natural logarithm  |\n",
    "| `np.abs(x)`                 | elementwise absolute value  |\n",
    "| `np.sin(x)`                 | elementwise sine  |\n",
    "| `np.cos(x)`                 | elementwise cosine  |\n",
    "| `np.tan(x)`                 | elementwise tangent  |\n",
    "| `np.arcsin(x)`                 | elementwise inverse sine  |\n",
    "| `np.arccos(x)`                 | elementwise inverse cosine  |\n",
    "| `np.arctan(x)`                 | elementwise inverse tangent  |"
   ]
  },
  {
   "cell_type": "code",
   "execution_count": null,
   "metadata": {
    "id": "0s0FQVGJ2Z-z",
    "scrolled": true
   },
   "outputs": [],
   "source": [
    "x = np.array([0.2, 1.2, 0.56, 2.1])\n",
    "\n",
    "print( np.sqrt(x) )\n",
    "print( np.tan(x) )"
   ]
  },
  {
   "cell_type": "markdown",
   "metadata": {
    "id": "_DUT7Ngs2Z-2"
   },
   "source": [
    "Some other useful mathematical functions for mathematics and statistics are:\n",
    "\n",
    "| NumPy function      | Description    |\n",
    "| :-----------------  |:-------------- |\n",
    "| `np.sum(x)`         | sum of all elements of `x`  |\n",
    "| `np.sum(x,axis=a)`  | sum of all elements of `x` over axis `a`  |\n",
    "| `np.cumsum(x)`         | cumulative sum of the elements of `x`  |\n",
    "| `np.cumsum(x,axis=a)`  | cumulative sum of the elements of `x` over axis `a`  |\n",
    "| `np.mean(x)`        | arithmetic mean of all elements of `x`  |\n",
    "| `np.mean(x,axis=a)` | arithmetic mean of `x` along axis `a`  |\n",
    "| `np.std(x)`         | arithmetic mean of all elements of `x`  |\n",
    "| `np.all(x)` | checks whether all elements of `x` are `True`  |"
   ]
  },
  {
   "cell_type": "code",
   "execution_count": null,
   "metadata": {
    "id": "QLGMz8c92Z-2"
   },
   "outputs": [],
   "source": [
    "x = np.array( [[3,5,6], [9,2,-3] ] )\n",
    "\n",
    "print(np.sum(x))\n",
    "print(np.sum(x,axis=0))\n",
    "print(np.sum(x,axis=1))\n",
    "print(np.sum(x,axis=-1)) #-1 means last axis which = 1 in our case\n",
    "print()\n",
    "\n",
    "print(np.mean(x,axis=0))\n",
    "print(np.std(x))\n",
    "print()"
   ]
  },
  {
   "cell_type": "markdown",
   "metadata": {
    "id": "8t20pL45JDTF"
   },
   "source": [
    "### 4.3. Constants"
   ]
  },
  {
   "cell_type": "markdown",
   "metadata": {
    "id": "V01eKhuUJLvV"
   },
   "source": [
    "The NumPy package includes several mathematical constants"
   ]
  },
  {
   "cell_type": "code",
   "execution_count": null,
   "metadata": {
    "id": "vYHZ_1fuJKkS"
   },
   "outputs": [],
   "source": [
    "import numpy as np\n",
    "print( np.pi ) #pi\n",
    "print( np.e  ) #base of natural logarithm"
   ]
  },
  {
   "cell_type": "markdown",
   "metadata": {
    "id": "XmDCpwUX55fD"
   },
   "source": [
    "### 4.4. Handling Conditions in Arrays"
   ]
  },
  {
   "cell_type": "markdown",
   "metadata": {
    "id": "oeQ1Rh4n5_DT"
   },
   "source": [
    "In Python, particularly with libraries like NumPy, you can perform conditional operations directly on arrays. This is incredibly useful for filtering, masking, or modifying arrays based on certain conditions"
   ]
  },
  {
   "cell_type": "code",
   "execution_count": null,
   "metadata": {
    "id": "AVtJC6606EGM"
   },
   "outputs": [],
   "source": [
    "a = np.array([1, 2, 3, 4, 5])"
   ]
  },
  {
   "cell_type": "markdown",
   "metadata": {
    "id": "DrXAn64K6L3G"
   },
   "source": [
    "Now, let's say we want to filter out elements from the array a that are less than 4. We can achieve this using the syntax a[a < 4]."
   ]
  },
  {
   "cell_type": "code",
   "execution_count": null,
   "metadata": {
    "id": "W7Tr2zjW6NUX"
   },
   "outputs": [],
   "source": [
    "filtered_array = a[a < 4]\n",
    "print(\"Original Array:\", a)\n",
    "print(\"Filtered Array (a < 4):\", filtered_array)"
   ]
  },
  {
   "cell_type": "markdown",
   "metadata": {
    "id": "8YgyzG8e70LS"
   },
   "source": [
    "Now, let's consider an example where we want to filter out elements from an array based on the logarithm of the elements."
   ]
  },
  {
   "cell_type": "code",
   "execution_count": null,
   "metadata": {
    "id": "hFm6aW5E72fs"
   },
   "outputs": [],
   "source": [
    "data = np.array([1, 10, 100, 1000, 10000])\n",
    "\n",
    "filtered_data = data[np.log10(data) >= 2]\n",
    "print(filtered_data)"
   ]
  },
  {
   "cell_type": "markdown",
   "metadata": {
    "id": "Z4idnUBr_JWB"
   },
   "source": [
    "There is also a possibility to filter the elements of a based on another array b"
   ]
  },
  {
   "cell_type": "code",
   "execution_count": null,
   "metadata": {
    "id": "caUCTPmu_Qiw"
   },
   "outputs": [],
   "source": [
    "a = np.array([1, 2, 3, 4, 5])\n",
    "\n",
    "b = np.array([5, 2, 2, 2, 1])\n",
    "\n",
    "filtered_array = a[b == 2]\n",
    "\n",
    "print(filtered_array)"
   ]
  },
  {
   "cell_type": "markdown",
   "metadata": {
    "id": "2DTznZIk76x1"
   },
   "source": [
    "In this example, we use np.log10(data) >= 2 as the condition to filter out elements whose logarithm10 is greater than or equal to 2."
   ]
  },
  {
   "cell_type": "markdown",
   "metadata": {
    "id": "quXmCN4i6c4G"
   },
   "source": [
    "**Exercise #6:** Filtering Array Elements\n",
    "\n",
    "Problem Statement: ou are given an array of student scores for a test. Your task is to filter out the scores that are greater than or equal to 70 and less than 90, and then compute the average of the filtered scores.\n",
    "\n",
    "Instructions:\n",
    "\n",
    "1. Create a NumPy array `scores` with the following student scores: `[65, 72, 80, 95, 88, 90, 62, 78, 85, 70]`.\n",
    "\n",
    "2. Use NumPy array operations to filter out the scores that are greater than or equal to 70 and less than 90.\n",
    "\n",
    "3. Compute the average of the filtered scores.\n",
    "\n",
    "4. Print the original array, the filtered array, and the average of the filtered scores."
   ]
  },
  {
   "cell_type": "code",
   "execution_count": null,
   "metadata": {
    "id": "leOHqTvF6mIp"
   },
   "outputs": [],
   "source": [
    "#### Solutions #####\n"
   ]
  },
  {
   "cell_type": "markdown",
   "metadata": {
    "id": "-52aCtzPHb5X"
   },
   "source": [
    "### 4.4. Random numbers"
   ]
  },
  {
   "cell_type": "markdown",
   "metadata": {
    "id": "j0zhUqs-2Z-5"
   },
   "source": [
    "NumPy offers several functions for generating random numbers and arrays of random numbers."
   ]
  },
  {
   "cell_type": "code",
   "execution_count": null,
   "metadata": {
    "id": "tNBj_ADu2Z-6",
    "scrolled": true
   },
   "outputs": [],
   "source": [
    "#Use rand to generate random samples from the uniform distribution over [0,1)\n",
    "print( np.random.rand() ) #generates one sample\n",
    "print()\n",
    "print( np.random.rand(5) ) #generates a 1D array of five samples\n",
    "print()\n",
    "print( np.random.rand(4,2) ) #generates a 2D array of eight samples"
   ]
  },
  {
   "cell_type": "code",
   "execution_count": null,
   "metadata": {
    "id": "qATK0j9i2Z-7"
   },
   "outputs": [],
   "source": [
    "#Similarly, use randn to generate random samples normal distribution with mean 0 and variance 1\n",
    "print( np.random.randn(6) )"
   ]
  },
  {
   "cell_type": "code",
   "execution_count": null,
   "metadata": {
    "id": "O3XahLO7Kuuo"
   },
   "outputs": [],
   "source": [
    "#To generate random integers, use randint\n",
    "print( np.random.randint(0,11) ) #generate one random integer in the range [0,10]\n",
    "print()\n",
    "print( np.random.randint(6,9,size=10) ) #generates 10 random integers in the range [6,8]"
   ]
  },
  {
   "cell_type": "markdown",
   "metadata": {
    "id": "kzX7_Oqa2Z--"
   },
   "source": [
    "**Exercise #7:** Use `np.random.rand` to generate an array of 10 numbers sampled from the uniform distribution [-1,3)"
   ]
  },
  {
   "cell_type": "code",
   "execution_count": null,
   "metadata": {
    "id": "1JmwB1wq2Z-_"
   },
   "outputs": [],
   "source": [
    "### SOLUTION ###\n"
   ]
  },
  {
   "cell_type": "markdown",
   "metadata": {
    "id": "dZHxPhZh-3g1"
   },
   "source": [
    "### 4.5. Linear algebra"
   ]
  },
  {
   "cell_type": "code",
   "execution_count": null,
   "metadata": {
    "id": "x3UwjEGm_EDj"
   },
   "outputs": [],
   "source": [
    "A = np.array( [[3,8], [-2,14]] )\n",
    "A"
   ]
  },
  {
   "cell_type": "code",
   "execution_count": null,
   "metadata": {
    "id": "v0JVOM6w_Kid"
   },
   "outputs": [],
   "source": [
    "#Transpose:\n",
    "A.T"
   ]
  },
  {
   "cell_type": "code",
   "execution_count": null,
   "metadata": {
    "id": "p4SMQU7h_N0_"
   },
   "outputs": [],
   "source": [
    "#Inverse:\n",
    "np.linalg.inv( A )"
   ]
  },
  {
   "cell_type": "code",
   "execution_count": null,
   "metadata": {
    "id": "CiP2BEXM_QZw"
   },
   "outputs": [],
   "source": [
    "#Trace:\n",
    "np.trace( A )"
   ]
  },
  {
   "cell_type": "code",
   "execution_count": null,
   "metadata": {
    "id": "lS6eSy62_TaP"
   },
   "outputs": [],
   "source": [
    "#Eigenvalues and right eigenvectors:\n",
    "E = np.linalg.eig(A)\n",
    "print(E)\n",
    "print()\n",
    "\n",
    "evals = E[0]\n",
    "evecs = E[1]\n",
    "print( evals )\n",
    "print()\n",
    "print( evecs )"
   ]
  },
  {
   "cell_type": "code",
   "execution_count": null,
   "metadata": {
    "id": "WeRedVLR_Wlz"
   },
   "outputs": [],
   "source": [
    "#2D Identity matrix:\n",
    "np.eye(4)"
   ]
  },
  {
   "cell_type": "code",
   "execution_count": null,
   "metadata": {
    "id": "NWJN-TMj_aDA"
   },
   "outputs": [],
   "source": [
    "#Matrix multiplication:\n",
    "B = np.random.rand(2,2)\n",
    "print(B)\n",
    "print\n",
    "print( np.matmul(A,B) )\n",
    "print\n",
    "print( np.matmul(B,A) )"
   ]
  },
  {
   "cell_type": "markdown",
   "metadata": {
    "id": "TDrsQMjh_n5Q"
   },
   "source": [
    "**Exercise #8:** Write code to check if the matrix product of a matrix `A` with its inverse gives the identity matrix. You should print `True` if the product is equal to the identity and `False` otherwise."
   ]
  },
  {
   "cell_type": "code",
   "execution_count": null,
   "metadata": {
    "id": "vUU7exxR_q2m"
   },
   "outputs": [],
   "source": [
    "### SOLUTION ###\n"
   ]
  },
  {
   "cell_type": "markdown",
   "metadata": {
    "id": "KP0CajHA6_0J"
   },
   "source": [
    "## 5. Data visualization using Matplotlib"
   ]
  },
  {
   "cell_type": "markdown",
   "metadata": {
    "id": "a8Nq9IWM71by"
   },
   "source": [
    "Matplotlib is an extensive plotting library in Python, which offers many versatile functions for generating plots for publications and presentations."
   ]
  },
  {
   "cell_type": "code",
   "execution_count": null,
   "metadata": {
    "id": "pKTp67Zk75EG"
   },
   "outputs": [],
   "source": [
    "import matplotlib.pyplot as plt\n",
    "import numpy as np"
   ]
  },
  {
   "cell_type": "markdown",
   "metadata": {
    "id": "tI5xo2tybhQT"
   },
   "source": [
    "### 5.1. `plt.plot`"
   ]
  },
  {
   "cell_type": "markdown",
   "metadata": {
    "id": "kg6MZhs_bkMW"
   },
   "source": [
    "Use `plt.plot` to plot two-dimensional data with lines and/or markers."
   ]
  },
  {
   "cell_type": "code",
   "execution_count": null,
   "metadata": {
    "id": "92XZepMMQ-Ro"
   },
   "outputs": [],
   "source": [
    "x = np.linspace(0,3,20)\n",
    "y1 = x**2\n",
    "y2 = np.sin(x)\n",
    "\n",
    "#Very simple plotting script:\n",
    "plt.plot(x, y1) #plot y1 vs. x\n",
    "plt.plot(x, y2) #plot y2 vs. x\n",
    "\n",
    "plt.show() #display the plot"
   ]
  },
  {
   "cell_type": "markdown",
   "metadata": {
    "id": "6CV7LXBuRSHv"
   },
   "source": [
    "Plotting code can be as simple as the lines above, or we can add or modify many features.\n",
    "\n",
    "The function `plt.plot` takes many optional arguments, such as:\n",
    "\n",
    "| `plt.plot` argument        | Description    |\n",
    "| :--------------------------|:-------------- |\n",
    "| `linestyle` or `ls`        | Style of the line (examples: `'-'`, `'--'`, `'-.'`, `':'`, `'None'`) |\n",
    "| `linewidth` or `lw`        | A number specifying the width of the line |\n",
    "| `marker`                   | Style of markers for the data points (examples: `'o'`, `'.'`, `'v'`, `'^'`, `'>'`, `'<'`, `'s'`, `'D'`) |\n",
    "| `markersize` or `ms`       | A number specifying the size of the markers |\n",
    "| `markeredgewidth` or `mew` | A number specifying the size of the edge around the markers |\n",
    "| `label`                    | String to label the data (can use LaTeX) |\n",
    "| `color` or `c`             | Colour of the line and points (examples: `'b'`, `'g'`, `'r'`, `'c'`, `'m'`, `'y'`, `'k'`, `'w'`, RGB tuple, hex RGB string) |\n",
    "    | `markeredgecolor` or `mec` | Colour of the edge around the points (has the same possible values as `color`) |\n",
    "    \n",
    "There are also several options for adjusting other features of the plot, such as:\n",
    "\n",
    "| Function                      | Description     |\n",
    "| :---------------------------- | :-------------- |\n",
    "| `plt.xlabel` and `plt.ylabel` | Label the $x$ and $y$ axes |\n",
    "| `plt.xlim` and `plt.ylim`     | Control the limits of the $x$ and $y$ axes |\n",
    "| `plt.xticks` and `plt.yticks` | Control the tick locations and labels |\n",
    "| `plt.xscale` and `plt.yscale` | Control whether the $x$ and $y$ axes are `'linear'`, `'log'`, etc. |\n",
    "| `plt.title`                   | Add a title to the plot |\n",
    "| `plt.legend`                  | Add a legend to the plot based on the `label` arguments |"
   ]
  },
  {
   "cell_type": "code",
   "execution_count": null,
   "metadata": {
    "id": "me1kcWz2RKQJ"
   },
   "outputs": [],
   "source": [
    "#Plot the same data but customize more of the features:\n",
    "plt.plot(x, y1, ls='-.', lw=4, label=\"quadratic\", color=(0.1,0.8,0.6))\n",
    "plt.plot(x, y2, ls='None', marker='s', ms = 8, mec='k', mew=2, label=r'$\\sin(x)$', color='#F39E1E')\n",
    "\n",
    "plt.xlabel('time $t$', fontsize=16)\n",
    "plt.ylabel('$g(t)$', fontsize=22)\n",
    "plt.xlim([0,1.9])\n",
    "plt.ylim([-1,4])\n",
    "plt.xticks([0,0.5,1.0,1.5], fontsize=16)\n",
    "plt.yticks([0.5,1.7,3.8], [\"a\", \"b\", \"c\"], fontsize=18)\n",
    "plt.legend(loc='upper left', fontsize=14, frameon=False) #Add a legend and adjust its properties\n",
    "\n",
    "plt.show() #display the plot"
   ]
  },
  {
   "cell_type": "markdown",
   "metadata": {
    "id": "6nVQMSa3UU5I"
   },
   "source": [
    "### 5.2. `plt.scatter`"
   ]
  },
  {
   "cell_type": "markdown",
   "metadata": {
    "id": "Sf6vxPuaUYnM"
   },
   "source": [
    "Use `plt.scatter` to make two-dimensional scatter plots, where the markers can have varying size and/or color.\n",
    "This function takes many of the same optional arguments as `plt.plot`.\n",
    "\n",
    "In addition, an optional argument `c` can specify the colour(s), and an optional argument `s` can specify the marker size(s)."
   ]
  },
  {
   "cell_type": "code",
   "execution_count": null,
   "metadata": {
    "id": "yATUC8LwRWdk"
   },
   "outputs": [],
   "source": [
    "#Simple scatter plot:\n",
    "N = 70\n",
    "\n",
    "x = np.linspace(0,4,N)\n",
    "y = x + 3*np.random.randn(N)\n",
    "\n",
    "plt.scatter(x, y)\n",
    "plt.show()"
   ]
  },
  {
   "cell_type": "code",
   "execution_count": null,
   "metadata": {
    "id": "a6yly7C0Ua-M"
   },
   "outputs": [],
   "source": [
    "#Scatter plot with varying sizes and colours:\n",
    "N = 70\n",
    "\n",
    "x = np.linspace(0,4,N)\n",
    "y = x + 3*np.random.randn(N)\n",
    "colours = np.random.rand(N)\n",
    "sizes = 120*np.random.rand(N)\n",
    "\n",
    "#cmap denotes the name of the colormap (how numbers are mapped to colours)\n",
    "#examples of cmap names: 'viridis', 'plasma', 'inferno', 'magma', 'cool', 'rainbow', 'jet'\n",
    "plt.scatter(x, y, c=colours, s=sizes, cmap = 'viridis')\n",
    "plt.show()"
   ]
  },
  {
   "cell_type": "markdown",
   "metadata": {
    "id": "1HVQ0RJgUjur"
   },
   "source": [
    "### 5.3. `plt.errorbar`"
   ]
  },
  {
   "cell_type": "markdown",
   "metadata": {
    "id": "oV8ppwedUlCm"
   },
   "source": [
    "Use `plt.errorbar` to plot two-dimensional data with errorbars.\n",
    "This function takes many of the same optional arguments as `plt.plot`.\n",
    "\n",
    "Other optional arguments include:\n",
    "\n",
    "| `plt.plot` argument        | Description    |\n",
    "| :--------------------------|:-------------- |\n",
    "| `xerr` and `yerr`          | Parameters to store the value(s) of the error along $x$ and $y$ |\n",
    "| `elinewidth`               | A number specifying the width of the errorbars |\n",
    "| `capsize`                  | A number specifying the length of the errorbar caps |\n",
    "| `capthick`                 | A number specifying the thickness of the errorbar caps |"
   ]
  },
  {
   "cell_type": "code",
   "execution_count": null,
   "metadata": {
    "id": "Lv-d-0xIUdfE"
   },
   "outputs": [],
   "source": [
    "N = 8\n",
    "\n",
    "x  = np.arange(N)\n",
    "y  = np.sin(x) + 0.4*np.random.rand(N)\n",
    "dy = 0.25*np.random.rand(N)\n",
    "dx = 0.45*np.random.rand(N)\n",
    "\n",
    "plt.errorbar( x, y, xerr=dx, yerr=dy, marker='o', ms=8, ls='-', lw=1, elinewidth=3, capsize=10, capthick=2  )\n",
    "plt.show()"
   ]
  },
  {
   "cell_type": "markdown",
   "metadata": {
    "id": "2zLGnt0BUr6j"
   },
   "source": [
    "### 5.4. `plt.hist`"
   ]
  },
  {
   "cell_type": "markdown",
   "metadata": {
    "id": "Z_dfHSMbUxjr"
   },
   "source": [
    "Use `plt.hist` to plot histograms.\n",
    "This function takes many of the same optional arguments as `plt.plot`.\n",
    "\n",
    "The argument `bin` can be either a integer or a sequence of numbers.\n",
    "When it is a number `n`, then `n+1` bin edges are used to generate the histogram.\n",
    "When this argument is a sequence (such as a list), then the values of this sequence specify the bin edges."
   ]
  },
  {
   "cell_type": "code",
   "execution_count": null,
   "metadata": {
    "id": "3Y-IBSQAUo9H"
   },
   "outputs": [],
   "source": [
    "x = np.random.randn(100000)\n",
    "\n",
    "plt.hist(x,100)\n",
    "plt.show()"
   ]
  },
  {
   "cell_type": "markdown",
   "metadata": {
    "id": "c4gFC5g7b5yI"
   },
   "source": [
    "## 6. The SciPy library"
   ]
  },
  {
   "cell_type": "markdown",
   "metadata": {
    "id": "d5WK_GLyb9Xj"
   },
   "source": [
    "SciPy provides many tools for scientific computing such as\n",
    "\n",
    "* special functions\n",
    "* integration\n",
    "* optimization\n",
    "* interpolation\n",
    "* Fourier transforms\n",
    "* linear algebra\n",
    "* statistics\n",
    "\n",
    "We won't explore all of these tools in detail, but let's look at some simple curve fitting for now."
   ]
  },
  {
   "cell_type": "markdown",
   "metadata": {
    "id": "ddLuUCndcEfg"
   },
   "source": [
    "### 6.1. Curve fitting"
   ]
  },
  {
   "cell_type": "markdown",
   "metadata": {
    "id": "8P4TTbezcIQA"
   },
   "source": [
    "We will focus here on using the function `scipy.optimize.curve_fit`.\n",
    "The arguments are the fitting function `f` as well as the data points specified in terms of `xdata` and `ydata`.\n",
    "The function performs a least squares fit and outputs `popt` (the optimized values for the parameters of `f`) and `pcov` (a estimate for the covariance of `popt`)."
   ]
  },
  {
   "cell_type": "code",
   "execution_count": null,
   "metadata": {
    "id": "3NYSfXdnb8wg"
   },
   "outputs": [],
   "source": [
    "import numpy as np\n",
    "import scipy.optimize\n",
    "\n",
    "def f1(x,a):\n",
    "    return a*np.log(x+1)\n",
    "\n",
    "N=50\n",
    "x_points = np.arange(N)\n",
    "y_points = np.log( x_points + 1 ) + 0.7*np.random.randn(N)\n",
    "\n",
    "#Fit the data to f1:\n",
    "popt, pcov = scipy.optimize.curve_fit(f1, x_points, y_points)\n",
    "print(popt)\n",
    "y_fit1 = f1(x_points,*popt) #use the '*' to \"unpack\" the elements of popt\n",
    "\n",
    "plt.plot(x_points, y_points, marker='o', ls='None', label='Data')\n",
    "plt.plot(x_points, y_fit1, ls='-', label='f1')\n",
    "plt.legend(loc='upper left')\n",
    "plt.show()"
   ]
  },
  {
   "cell_type": "markdown",
   "metadata": {
    "id": "ctL0A88XcadY"
   },
   "source": [
    "**Exercise #9:** Modify the code in the cell above so that it additionally fits the data to the function ``a*x**b``, where `a` and `b` are both fitting parameters."
   ]
  },
  {
   "cell_type": "code",
   "execution_count": null,
   "metadata": {
    "id": "EBK4tyB4cVXa"
   },
   "outputs": [],
   "source": [
    "### SOLUTION ###\n"
   ]
  },
  {
   "cell_type": "markdown",
   "metadata": {
    "id": "pvUW3SWW9GbV"
   },
   "source": [
    "### 7. Using `linear_model` in scikit-learn (For those who are advanced in Python)\n",
    "\n",
    "The `linear_model` module in scikit-learn provides tools for working with linear models, including Linear Regression that we will cover in Lecture 2 of this course.\n",
    "\n",
    "Import Necessary Libraries:\n",
    "\n"
   ]
  },
  {
   "cell_type": "code",
   "execution_count": null,
   "metadata": {
    "id": "6d3-7Y6B9rt_"
   },
   "outputs": [],
   "source": [
    "from sklearn import linear_model"
   ]
  },
  {
   "cell_type": "markdown",
   "metadata": {
    "id": "kt3wxnrn9Uxa"
   },
   "source": [
    "Before fitting a linear model, you need to have your data ready. Let's create some sample data for this tutorial."
   ]
  },
  {
   "cell_type": "code",
   "execution_count": null,
   "metadata": {
    "id": "OjMCqPgt9UlI"
   },
   "outputs": [],
   "source": [
    "# Sample 2D data\n",
    "X = np.array([[1, 2], [2, 3], [3, 4], [4, 5], [5, 6]])\n",
    "y = np.array([3, 4, 5.5, 6, 7.5])"
   ]
  },
  {
   "cell_type": "markdown",
   "metadata": {
    "id": "8EOJz9vy9add"
   },
   "source": [
    "In this example, X represents the features and y represents the target variable. Let's create a Linear Regression model using scikit-learn and fit it to our data."
   ]
  },
  {
   "cell_type": "code",
   "execution_count": null,
   "metadata": {
    "id": "-jdILERE9QkZ"
   },
   "outputs": [],
   "source": [
    "# Create linear regression object\n",
    "regr = linear_model.LinearRegression()\n",
    "\n",
    "# Fit the model\n",
    "regr.fit(X, y)"
   ]
  },
  {
   "cell_type": "markdown",
   "metadata": {
    "id": "YTbpVTRC9i3K"
   },
   "source": [
    "After fitting the model, you can make predictions on new data."
   ]
  },
  {
   "cell_type": "code",
   "execution_count": null,
   "metadata": {
    "id": "mce8Jo3w9jbQ"
   },
   "outputs": [],
   "source": [
    "# New 2D data for prediction\n",
    "X_new = np.array([[6, 7], [7, 8]])\n",
    "\n",
    "# Make predictions\n",
    "predictions = regr.predict(X_new)\n",
    "print(\"Predictions:\", predictions)"
   ]
  },
  {
   "cell_type": "markdown",
   "metadata": {
    "id": "FasRzFEp_q75"
   },
   "source": [
    "**Exercise 10:** Visualize the 2D results by projecting the data points onto one of the features (axis) and check that we have a linear fit."
   ]
  },
  {
   "cell_type": "code",
   "execution_count": null,
   "metadata": {
    "id": "3Xd2Um8u-9D3"
   },
   "outputs": [],
   "source": [
    "### Solution\n"
   ]
  },
  {
   "cell_type": "markdown",
   "metadata": {
    "id": "aHHcVw0M_u2y"
   },
   "source": [
    "In this visualization, we're plotting the original data points along one of the features (Feature 1) against the target variable. We then overlay the predicted data points using the same feature and their corresponding predictions. This provides a 2D projection of the data for visualization purposes."
   ]
  },
  {
   "cell_type": "markdown",
   "metadata": {
    "id": "gmSTwF1cADyl"
   },
   "source": [
    "### 8. Logistic regression in Pytorch (For those who are advanced in Python)"
   ]
  },
  {
   "cell_type": "markdown",
   "metadata": {
    "id": "i71Vak2dBO7I"
   },
   "source": [
    "Logistic regression is a fundamental algorithm used for binary classification tasks in machine learning and statistics. It's a type of regression analysis where the target variable is categorical, with two possible outcomes (usually coded as 0 and 1).\n",
    "\n",
    "Logistic regression is a powerful and interpretable algorithm for binary classification tasks. It's relatively simple to understand and implement, making it a popular choice for many real-world applications. Understanding logistic regression lays the groundwork for more advanced machine learning techniques.\n",
    "\n",
    "### Logistic Regression Forward Pass\n",
    "\n",
    "Logistic regression predicts the probability that a given input belongs to a certain class. Here's how the forward pass is conducted:\n",
    "\n",
    "1. **Input Features**:\n",
    "   - Let \\( $x_1, x_2, ..., x_n$ \\) be the input features.\n",
    "\n",
    "2. **Linear Combination**:\n",
    "   - Compute the linear combination of the input features and their corresponding weights plus bias:\n",
    "   $$z = b + w_1x_1 + w_2x_2 + ... + w_nx_n $$\n",
    "\n",
    "3. **Activation Function (Sigmoid)**:\n",
    "   - Pass the linear combination through the sigmoid function to get the probability of belonging to the positive class (class 1):\n",
    "   $$ \\hat{y} = \\sigma(z) = \\frac{1}{1 + e^{-z}}$$\n",
    "\n",
    "4. **Output Prediction**:\n",
    "   - Predict the class label based on the probability:\n",
    "     - If \\( $\\hat{y} \\geq 0.5$ \\), predict class 1.\n",
    "     - If \\( $\\hat{y} < 0.5$ \\), predict class 0.\n",
    "\n",
    "The sigmoid function ensures that the output probability is between 0 and 1, mapping the linear combination to a probability distribution over the classes.\n",
    "\n",
    "\n",
    "**Training Logistic Regression**\n",
    "\n",
    "The goal of training a logistic regression model is to find the best-fitting set of coefficients that maximizes the likelihood of the observed data. This is typically done using optimization algorithms like gradient descent or Newton's method.\n",
    "\n",
    "**Decision Boundary**\n",
    "\n",
    "In binary classification tasks, logistic regression produces a decision boundary that separates the classes in feature space. This decision boundary is determined by the coefficients learned during training.\n",
    "\n",
    "**Application Areas**\n",
    "\n",
    "Logistic regression is widely used in various fields such as healthcare (e.g., predicting disease outcomes), finance (e.g., credit scoring), marketing (e.g., customer churn prediction), and more.\n",
    "\n",
    "**Key Assumptions**\n",
    "\n",
    "- The dependent variable is binary.\n",
    "- The independent variables are linearly related to the log odds.\n",
    "- No multicollinearity among independent variables.\n",
    "- Observations are independent of each other.\n",
    "\n",
    "\n",
    "**Exercise 11:** Try to figure out what the code below is doing.\n",
    "\n"
   ]
  },
  {
   "cell_type": "code",
   "execution_count": null,
   "metadata": {
    "id": "rYW_7x-CAFHF"
   },
   "outputs": [],
   "source": [
    "import torch\n",
    "import torch.nn as nn\n",
    "import torch.optim as optim"
   ]
  },
  {
   "cell_type": "markdown",
   "metadata": {
    "id": "SIsA2mZBDto2"
   },
   "source": [
    "Let's create some synthetic data for binary classification. We'll generate two clusters of points in 2D space, one for each class."
   ]
  },
  {
   "cell_type": "code",
   "execution_count": null,
   "metadata": {
    "id": "OmYJwGeLAGD_"
   },
   "outputs": [],
   "source": [
    "# Number of data points\n",
    "n_samples = 100\n",
    "\n",
    "# Generate synthetic data\n",
    "np.random.seed(0)\n",
    "X1 = np.random.normal(loc=[-2, -2], scale=1, size=(n_samples // 2, 2))\n",
    "X2 = np.random.normal(loc=[2, 2], scale=1, size=(n_samples // 2, 2))\n",
    "X = np.vstack([X1, X2])\n",
    "y = np.hstack([np.zeros(n_samples // 2), np.ones(n_samples // 2)])\n",
    "\n",
    "# Convert to PyTorch tensors\n",
    "X_tensor = torch.tensor(X, dtype=torch.float32)\n",
    "y_tensor = torch.tensor(y, dtype=torch.float32).view(-1, 1)  # Reshape to (n_samples, 1)"
   ]
  },
  {
   "cell_type": "markdown",
   "metadata": {
    "id": "1ipq1LMNDw2d"
   },
   "source": [
    "Let's define a logistic regression model using PyTorch."
   ]
  },
  {
   "cell_type": "code",
   "execution_count": null,
   "metadata": {
    "id": "7bInVJi2AI19"
   },
   "outputs": [],
   "source": [
    "class LogisticRegression(nn.Module):\n",
    "    def __init__(self, input_dim):\n",
    "        super(LogisticRegression, self).__init__()\n",
    "        self.linear = nn.Linear(input_dim, 1) #What is the goal of using nn.Linear?\n",
    "\n",
    "    def forward(self, x):\n",
    "        return torch.sigmoid(self.linear(x)) #What is the definition of sigmoid?"
   ]
  },
  {
   "cell_type": "markdown",
   "metadata": {
    "id": "TuLLzRoQDzOs"
   },
   "source": [
    "Now, we'll train the logistic regression model using binary cross-entropy loss and stochastic gradient descent (SGD) optimizer."
   ]
  },
  {
   "cell_type": "code",
   "execution_count": null,
   "metadata": {
    "id": "WaAA0T0PAMbt"
   },
   "outputs": [],
   "source": [
    "# Instantiate the model\n",
    "model = LogisticRegression(input_dim=2)\n",
    "\n",
    "# Define loss function and optimizer\n",
    "criterion = nn.BCELoss() #BCELoss is the binary cross entropy loss which will be explained in Lecture 3\n",
    "optimizer = optim.SGD(model.parameters(), lr=0.01) #What is SGD, lr?\n",
    "\n",
    "# Training loop\n",
    "n_epochs = 1000\n",
    "for epoch in range(n_epochs):\n",
    "    # Forward pass\n",
    "    outputs = model(X_tensor)\n",
    "    loss = criterion(outputs, y_tensor)\n",
    "\n",
    "    # Backward pass and optimization\n",
    "    optimizer.zero_grad()\n",
    "    loss.backward()\n",
    "    optimizer.step()\n",
    "\n",
    "    if (epoch + 1) % 100 == 0:\n",
    "        print(f'Epoch [{epoch+1}/{n_epochs}], Loss: {loss.item():.4f}')"
   ]
  },
  {
   "cell_type": "markdown",
   "metadata": {
    "id": "EdnhYE52D38G"
   },
   "source": [
    "Finally, let's visualize the decision boundary and the data points."
   ]
  },
  {
   "cell_type": "code",
   "execution_count": null,
   "metadata": {
    "id": "pYKb1B-DAOQ1"
   },
   "outputs": [],
   "source": [
    "# Plot the decision boundary\n",
    "plt.figure(figsize=(8, 6))\n",
    "plt.scatter(X[:, 0], X[:, 1], c=y, cmap=plt.cm.RdBu, marker='o', label='Data Points')\n",
    "# Generate meshgrid for contour plot\n",
    "x_min, x_max = X[:, 0].min() - 1, X[:, 0].max() + 1\n",
    "y_min, y_max = X[:, 1].min() - 1, X[:, 1].max() + 1\n",
    "xx, yy = np.meshgrid(np.linspace(x_min, x_max, 100),\n",
    "                     np.linspace(y_min, y_max, 100))\n",
    "\n",
    "# Predict on the meshgrid points\n",
    "mesh_tensor = torch.tensor(np.c_[xx.ravel(), yy.ravel()], dtype=torch.float32)\n",
    "Z = model(mesh_tensor).detach().numpy().reshape(xx.shape)\n",
    "\n",
    "#Making a contour plot\n",
    "plt.contourf(np.linspace(-5, 5, 100), np.linspace(-5, 5, 100),\n",
    "             Z, alpha=0.3, cmap=plt.cm.RdBu)\n",
    "\n",
    "plt.xlabel('Feature 1')\n",
    "plt.ylabel('Feature 2')\n",
    "plt.title('Logistic Regression: Decision Boundary')\n",
    "plt.colorbar(label='Predicted Probability')\n",
    "plt.legend()\n",
    "plt.grid(True)\n",
    "plt.show()"
   ]
  },
  {
   "cell_type": "markdown",
   "metadata": {
    "id": "C7i0ou3lD5EZ"
   },
   "source": [
    "Feel free to experiment with different parameters, optimization algorithms, and datasets to deepen your understanding of logistic regression and PyTorch."
   ]
  }
 ],
 "metadata": {
  "colab": {
   "provenance": []
  },
  "kernelspec": {
   "display_name": "Python 3 (ipykernel)",
   "language": "python",
   "name": "python3"
  },
  "language_info": {
   "codemirror_mode": {
    "name": "ipython",
    "version": 3
   },
   "file_extension": ".py",
   "mimetype": "text/x-python",
   "name": "python",
   "nbconvert_exporter": "python",
   "pygments_lexer": "ipython3",
   "version": "3.11.4"
  }
 },
 "nbformat": 4,
 "nbformat_minor": 4
}
